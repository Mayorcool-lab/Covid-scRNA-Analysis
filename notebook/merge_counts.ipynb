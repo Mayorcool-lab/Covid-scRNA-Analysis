{
 "cells": [
  {
   "cell_type": "markdown",
   "id": "fb5cee49-240e-4fe5-bf1b-4cd9d213d645",
   "metadata": {},
   "source": [
    "#### Single-Cell RNA-seq Data Merging Pipeline\n",
    "\n",
    "**Purpose**:  \n",
    "Merge multiple single-cell RNA-seq count files (CSV format) into a consolidated dataset with metadata.\n",
    "\n",
    "**Key Steps**:\n",
    "1. **Input**: 14 raw count files (format: `GSMXXXXX_[Condition]_raw_counts.csv`)\n",
    "2. **Metadata Extraction**:  \n",
    "   - Sample ID (from filename)  \n",
    "   - Condition (`Control`/`COVID` inferred from filename)\n",
    "3. **Output**:  \n",
    "   - Merged CSV (`merged_counts.csv`) with structure:  \n",
    "     - Rows = Cells  \n",
    "     - Columns = Genes + `sample`/`condition` metadata\n",
    "\n",
    "**Requirements**:  \n",
    "`pandas`, `pathlib`, `re`"
   ]
  },
  {
   "cell_type": "code",
   "execution_count": 8,
   "id": "a1b3689c",
   "metadata": {},
   "outputs": [],
   "source": [
    "#Import packages\n",
    "import pandas as pd #For loading and manipulating tables\n",
    "import glob #For listing multiple file names matching a pattern.\n",
    "import os # For handling file paths (cross-platform-safe)\n",
    "from pathlib import Path\n",
    "import re"
   ]
  },
  {
   "cell_type": "code",
   "execution_count": 9,
   "id": "1ca9057f",
   "metadata": {},
   "outputs": [
    {
     "name": "stdout",
     "output_type": "stream",
     "text": [
      " Volume in drive E is Volume\n",
      " Volume Serial Number is A45F-3E36\n",
      "\n",
      " Directory of E:\\COVID_LUNGS\\notebooks\n",
      "\n",
      "26/07/2025  15:38    <DIR>          .\n",
      "26/07/2025  15:38    <DIR>          ..\n",
      "26/07/2025  15:04    <DIR>          .ipynb_checkpoints\n",
      "26/07/2025  15:38            14,519 merge_counts.ipynb\n",
      "               1 File(s)         14,519 bytes\n",
      "               3 Dir(s)  716,024,213,504 bytes free\n"
     ]
    }
   ],
   "source": [
    "ls"
   ]
  },
  {
   "cell_type": "code",
   "execution_count": 10,
   "id": "657af76c-0d32-44e0-9ea1-c012e1efd0af",
   "metadata": {},
   "outputs": [],
   "source": [
    "# Step 1:Define the data directory (where your 14 raw CSV files are)\n",
    "DATA_DIR = Path(\"../data\")  # Adjust path if needed\n",
    "OUTPUT_FILE = DATA_DIR / \"merged_counts.csv\""
   ]
  },
  {
   "cell_type": "code",
   "execution_count": 12,
   "id": "74f12f93-4a3e-4088-ba6b-16c90750dd5f",
   "metadata": {},
   "outputs": [
    {
     "name": "stdout",
     "output_type": "stream",
     "text": [
      "Found 14 CSV files.\n"
     ]
    }
   ],
   "source": [
    "# Step 2: List all .csv files in the data folder\n",
    "files = sorted(DATA_DIR.glob(\"*.csv\"))  # Process all 14 CSVs\n",
    "\n",
    "print(f\"Found {len(files)} CSV files.\")\n",
    "\n",
    "if not files:\n",
    "    raise FileNotFoundError(\"No CSV files found in the 'data/' directory.\")\n",
    "\n",
    "# Create a list to hold all sample DataFrames\n",
    "all_samples_dfs = []"
   ]
  },
  {
   "cell_type": "code",
   "execution_count": 13,
   "id": "ca6890a8-45fb-458c-a18b-8d0dd416ce22",
   "metadata": {},
   "outputs": [
    {
     "name": "stdout",
     "output_type": "stream",
     "text": [
      "Processing: GSM5226574_C51ctr_raw_counts.csv | Sample: GSM5226574_C51ctr | Condition: Control\n",
      "Processing: GSM5226575_C52ctr_raw_counts.csv | Sample: GSM5226575_C52ctr | Condition: Control\n",
      "Processing: GSM5226576_C53ctr_raw_counts.csv | Sample: GSM5226576_C53ctr | Condition: Control\n",
      "Processing: GSM5226577_C54ctr_raw_counts.csv | Sample: GSM5226577_C54ctr | Condition: Control\n",
      "Processing: GSM5226578_C55ctr_raw_counts.csv | Sample: GSM5226578_C55ctr | Condition: Control\n",
      "Processing: GSM5226579_C56ctr_raw_counts.csv | Sample: GSM5226579_C56ctr | Condition: Control\n",
      "Processing: GSM5226580_C57ctr_raw_counts.csv | Sample: GSM5226580_C57ctr | Condition: Control\n",
      "Processing: GSM5226581_L01cov_raw_counts.csv | Sample: GSM5226581_L01cov | Condition: COVID\n",
      "Processing: GSM5226582_L03cov_raw_counts.csv | Sample: GSM5226582_L03cov | Condition: COVID\n",
      "Processing: GSM5226583_L04cov_raw_counts.csv | Sample: GSM5226583_L04cov | Condition: COVID\n",
      "Processing: GSM5226584_L04covaddon_raw_counts.csv | Sample: GSM5226584_L04covaddon | Condition: COVID\n",
      "Processing: GSM5226585_L05cov_raw_counts.csv | Sample: GSM5226585_L05cov | Condition: COVID\n",
      "Processing: GSM5226586_L06cov_raw_counts.csv | Sample: GSM5226586_L06cov | Condition: COVID\n",
      "Processing: GSM5226587_L07cov_raw_counts.csv | Sample: GSM5226587_L07cov | Condition: COVID\n"
     ]
    }
   ],
   "source": [
    "# Step 3: Process each file — extract metadata and load data\n",
    "for f in files:\n",
    "    filename = f.name\n",
    "\n",
    "    # Step 3.1: Extract sample ID from filename\n",
    "    match = re.match(r\"(GSM\\d+_.*?)(_raw_counts\\.csv)\", filename, re.IGNORECASE)\n",
    "    if not match:\n",
    "        print(f\"Skipping '{filename}' — filename format not recognized.\")\n",
    "        continue\n",
    "\n",
    "    sample_id = match.group(1)\n",
    "\n",
    "    # Step 3.2: Determine condition from filename\n",
    "    if \"ctr\" in sample_id.lower():\n",
    "        condition = \"Control\"\n",
    "    elif \"cov\" in sample_id.lower():\n",
    "        condition = \"COVID\"\n",
    "    else:\n",
    "        print(f\"Skipping '{filename}' — no condition found.\")\n",
    "        continue\n",
    "\n",
    "    print(f\"Processing: {filename} | Sample: {sample_id} | Condition: {condition}\")\n",
    "\n",
    "    try:\n",
    "        # Step 3.3: Read the CSV file and transpose it to cells × genes\n",
    "        df = pd.read_csv(f, index_col=0).T\n",
    "        df[\"sample\"] = sample_id\n",
    "        df[\"condition\"] = condition\n",
    "        all_samples_dfs.append(df)\n",
    "    except Exception as e:\n",
    "        print(f\"Error reading '{filename}': {e}\")"
   ]
  },
  {
   "cell_type": "code",
   "execution_count": 14,
   "id": "490240f1-e187-4f60-b0f6-314df7d5ad70",
   "metadata": {},
   "outputs": [
    {
     "name": "stdout",
     "output_type": "stream",
     "text": [
      "Merged dataset saved to: ..\\data\\merged_counts.csv\n",
      "Shape: (68710, 34548) — Rows = cells, Columns = genes + metadata\n"
     ]
    }
   ],
   "source": [
    "# Step 4: Merge all individual DataFrames\n",
    "if not all_samples_dfs:\n",
    "    raise RuntimeError(\"No valid dataframes to merge.\")\n",
    "\n",
    "# Merge into one large DataFrame\n",
    "merged_df = pd.concat(all_samples_dfs)\n",
    "\n",
    "# Step 4.1: Move metadata columns to the front\n",
    "meta_cols = [\"sample\", \"condition\"]\n",
    "gene_cols = [col for col in merged_df.columns if col not in meta_cols]\n",
    "merged_df = merged_df[meta_cols + gene_cols]\n",
    "\n",
    "# Step 4.2: Save to CSV\n",
    "merged_df.to_csv(OUTPUT_FILE)\n",
    "print(f\"Merged dataset saved to: {OUTPUT_FILE}\")\n",
    "print(f\"Shape: {merged_df.shape} — Rows = cells, Columns = genes + metadata\")"
   ]
  },
  {
   "cell_type": "code",
   "execution_count": null,
   "id": "78ec7af6-e7bd-4483-8268-a214595e5afe",
   "metadata": {},
   "outputs": [],
   "source": []
  },
  {
   "cell_type": "code",
   "execution_count": null,
   "id": "b7846f97-6b79-4dc7-814e-b785a77a2cb4",
   "metadata": {},
   "outputs": [],
   "source": []
  }
 ],
 "metadata": {
  "kernelspec": {
   "display_name": "Python (covid_scrna)",
   "language": "python",
   "name": "covid_scrna"
  },
  "language_info": {
   "codemirror_mode": {
    "name": "ipython",
    "version": 3
   },
   "file_extension": ".py",
   "mimetype": "text/x-python",
   "name": "python",
   "nbconvert_exporter": "python",
   "pygments_lexer": "ipython3",
   "version": "3.10.18"
  }
 },
 "nbformat": 4,
 "nbformat_minor": 5
}
